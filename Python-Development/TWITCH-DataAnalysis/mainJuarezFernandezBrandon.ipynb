{
 "cells": [
  {
   "cell_type": "code",
   "execution_count": 20,
   "id": "4278362f",
   "metadata": {},
   "outputs": [],
   "source": [
    "#Importing first the neccessary tools.\n",
    "import matplotlib.pyplot as plt\n",
    "import pandas as pd\n",
    "#import seaborn as sns"
   ]
  },
  {
   "cell_type": "code",
   "execution_count": 21,
   "id": "ce64756c",
   "metadata": {},
   "outputs": [
    {
     "name": "stdout",
     "output_type": "stream",
     "text": [
      "            Channel  Avg. Viewers  Time Streamed  All-Time Peak Viewers  \\\n",
      "0             xQcOW         89542          333.7                 222720   \n",
      "1        tommyinnit        258561           10.9                 650237   \n",
      "2         auronplay        115660           87.0                 313347   \n",
      "3        RanbooLive         85632          145.9                 346132   \n",
      "4    GeorgeNotFound        168391            9.6                 307439   \n",
      "..              ...           ...            ...                    ...   \n",
      "495        singsing          4054          190.4                  24068   \n",
      "496          uhSnow          4790          135.5                  36954   \n",
      "497     los_jotinha          5280          117.8                  15225   \n",
      "498     momo_sports          6653           57.3                  21197   \n",
      "499          ScreaM          8992           11.1                  27007   \n",
      "\n",
      "     Hours Watched  Followers Gained  Total Followers  Total Views  \n",
      "0         29880024          -2454132          5558385    331965084  \n",
      "1          2822624            462438          5102244     44524063  \n",
      "2         10066242            435339          8368359    129448575  \n",
      "3         12496595            438160          2567938     33990085  \n",
      "4          1610944            157766          3335146     14148526  \n",
      "..             ...               ...              ...          ...  \n",
      "495         771853             -8380           587531     91867822  \n",
      "496         648957              5320           169326     10168408  \n",
      "497         621974             87369           101861       432767  \n",
      "498         380844              4624            38877      3653347  \n",
      "499         100019             14612          1211759     27587428  \n",
      "\n",
      "[500 rows x 8 columns]\n"
     ]
    }
   ],
   "source": [
    "aprilchannelData= pd.read_csv(\"cleanApril.csv\",header=0)\n",
    "print(aprilchannelData)\n",
    "aprilchannelData2= pd.read_csv(\"cleanApril.csv\",header=0)\n",
    "#print(aprilchannelData2)\n",
    "\n",
    "\n",
    "twitch2018Data= pd.read_csv(\"clean2018.csv\",header=0)\n",
    "#print(twitch2018Data)\n",
    "\n"
   ]
  },
  {
   "cell_type": "markdown",
   "id": "9dbd70d7",
   "metadata": {},
   "source": [
    "# April_Channels_2021.xlsx"
   ]
  },
  {
   "cell_type": "markdown",
   "id": "4d28e0f0",
   "metadata": {},
   "source": [
    "# 1. Who had the highest value for:\n",
    "    a. Time Streamed\n",
    "    b. All-Time Peak Viewers\n",
    "    c. Hours Watched\n",
    "    d. Total Followers\n",
    "    e. Total Views"
   ]
  },
  {
   "cell_type": "code",
   "execution_count": 22,
   "id": "c6b05634",
   "metadata": {
    "scrolled": true
   },
   "outputs": [],
   "source": [
    "channel=aprilchannelData['Channel'].unique()\n",
    "#print(channel)\n",
    "timestreamed=aprilchannelData['Time Streamed'].unique()\n",
    "#print(timestreamed)\n",
    "alltimepeakviewers=aprilchannelData['All-Time Peak Viewers'].unique()\n",
    "#print(alltimepeakviewers)\n",
    "hourswatched=aprilchannelData['Hours Watched'].unique()\n",
    "#print(hourswatched)\n",
    "totalfollowers=aprilchannelData['Total Followers'].unique()\n",
    "#print(totalfollowers)\n",
    "totalviews=aprilchannelData['Time Streamed'].unique()\n",
    "#print(totalviews)\n",
    "followersgained=aprilchannelData['Followers Gained'].unique()\n",
    "#print(followersgained)\n",
    "averageview=aprilchannelData['Avg. Viewers'].unique()\n",
    "#print(averageview)\n"
   ]
  },
  {
   "cell_type": "markdown",
   "id": "24611f39",
   "metadata": {},
   "source": [
    "## a. Time Streamed"
   ]
  },
  {
   "cell_type": "code",
   "execution_count": 23,
   "id": "693e20a0",
   "metadata": {},
   "outputs": [
    {
     "data": {
      "text/html": [
       "<div>\n",
       "<style scoped>\n",
       "    .dataframe tbody tr th:only-of-type {\n",
       "        vertical-align: middle;\n",
       "    }\n",
       "\n",
       "    .dataframe tbody tr th {\n",
       "        vertical-align: top;\n",
       "    }\n",
       "\n",
       "    .dataframe thead th {\n",
       "        text-align: right;\n",
       "    }\n",
       "</style>\n",
       "<table border=\"1\" class=\"dataframe\">\n",
       "  <thead>\n",
       "    <tr style=\"text-align: right;\">\n",
       "      <th></th>\n",
       "      <th>Channel</th>\n",
       "      <th>Avg. Viewers</th>\n",
       "      <th>Time Streamed</th>\n",
       "      <th>All-Time Peak Viewers</th>\n",
       "      <th>Hours Watched</th>\n",
       "      <th>Followers Gained</th>\n",
       "      <th>Total Followers</th>\n",
       "      <th>Total Views</th>\n",
       "    </tr>\n",
       "  </thead>\n",
       "  <tbody>\n",
       "    <tr>\n",
       "      <th>68</th>\n",
       "      <td>otplol_</td>\n",
       "      <td>6707</td>\n",
       "      <td>719.5</td>\n",
       "      <td>160811</td>\n",
       "      <td>4825550</td>\n",
       "      <td>42945</td>\n",
       "      <td>269882</td>\n",
       "      <td>30941106</td>\n",
       "    </tr>\n",
       "  </tbody>\n",
       "</table>\n",
       "</div>"
      ],
      "text/plain": [
       "    Channel  Avg. Viewers  Time Streamed  All-Time Peak Viewers  \\\n",
       "68  otplol_          6707          719.5                 160811   \n",
       "\n",
       "    Hours Watched  Followers Gained  Total Followers  Total Views  \n",
       "68        4825550             42945           269882     30941106  "
      ]
     },
     "execution_count": 23,
     "metadata": {},
     "output_type": "execute_result"
    }
   ],
   "source": [
    "#aprilchannelData name of the data\n",
    "\n",
    "timestr = [aprilchannelData]\n",
    "\n",
    "df = pd.DataFrame(aprilchannelData)\n",
    "#df2 = pd.DataFrame(aprilchannelData2)\n",
    "\n",
    "#print(df)\n",
    "\n",
    "#timestr = DataFrame.max(axis={[0],timestreamed},level=None)\n",
    "#print(timestr)\n",
    "\n",
    "#df.loc[df['Time Streamed'].idxmax()]\n",
    "\n",
    "df[df['Time Streamed']==df['Time Streamed'].max()]\n",
    "\n"
   ]
  },
  {
   "cell_type": "markdown",
   "id": "223145a1",
   "metadata": {},
   "source": [
    "## Answer: Most time Streamed = otplol_"
   ]
  },
  {
   "cell_type": "markdown",
   "id": "49eb8c18",
   "metadata": {},
   "source": [
    "## b. All-Time Peak Viewers"
   ]
  },
  {
   "cell_type": "code",
   "execution_count": 24,
   "id": "c0fd31cf",
   "metadata": {},
   "outputs": [
    {
     "data": {
      "text/html": [
       "<div>\n",
       "<style scoped>\n",
       "    .dataframe tbody tr th:only-of-type {\n",
       "        vertical-align: middle;\n",
       "    }\n",
       "\n",
       "    .dataframe tbody tr th {\n",
       "        vertical-align: top;\n",
       "    }\n",
       "\n",
       "    .dataframe thead th {\n",
       "        text-align: right;\n",
       "    }\n",
       "</style>\n",
       "<table border=\"1\" class=\"dataframe\">\n",
       "  <thead>\n",
       "    <tr style=\"text-align: right;\">\n",
       "      <th></th>\n",
       "      <th>Channel</th>\n",
       "      <th>Avg. Viewers</th>\n",
       "      <th>Time Streamed</th>\n",
       "      <th>All-Time Peak Viewers</th>\n",
       "      <th>Hours Watched</th>\n",
       "      <th>Followers Gained</th>\n",
       "      <th>Total Followers</th>\n",
       "      <th>Total Views</th>\n",
       "    </tr>\n",
       "  </thead>\n",
       "  <tbody>\n",
       "    <tr>\n",
       "      <th>24</th>\n",
       "      <td>TheGrefg</td>\n",
       "      <td>38191</td>\n",
       "      <td>136.0</td>\n",
       "      <td>2470347</td>\n",
       "      <td>5194010</td>\n",
       "      <td>196592</td>\n",
       "      <td>7220398</td>\n",
       "      <td>136838315</td>\n",
       "    </tr>\n",
       "  </tbody>\n",
       "</table>\n",
       "</div>"
      ],
      "text/plain": [
       "     Channel  Avg. Viewers  Time Streamed  All-Time Peak Viewers  \\\n",
       "24  TheGrefg         38191          136.0                2470347   \n",
       "\n",
       "    Hours Watched  Followers Gained  Total Followers  Total Views  \n",
       "24        5194010            196592          7220398    136838315  "
      ]
     },
     "execution_count": 24,
     "metadata": {},
     "output_type": "execute_result"
    }
   ],
   "source": [
    "df[df['All-Time Peak Viewers']==df['All-Time Peak Viewers'].max()]\n"
   ]
  },
  {
   "cell_type": "markdown",
   "id": "f5868224",
   "metadata": {},
   "source": [
    "## Answer: All time Peak Viewers = TheGrefg"
   ]
  },
  {
   "cell_type": "markdown",
   "id": "66ade39a",
   "metadata": {},
   "source": [
    "## c. Hours Watched"
   ]
  },
  {
   "cell_type": "code",
   "execution_count": 25,
   "id": "87a0a5ae",
   "metadata": {},
   "outputs": [
    {
     "data": {
      "text/html": [
       "<div>\n",
       "<style scoped>\n",
       "    .dataframe tbody tr th:only-of-type {\n",
       "        vertical-align: middle;\n",
       "    }\n",
       "\n",
       "    .dataframe tbody tr th {\n",
       "        vertical-align: top;\n",
       "    }\n",
       "\n",
       "    .dataframe thead th {\n",
       "        text-align: right;\n",
       "    }\n",
       "</style>\n",
       "<table border=\"1\" class=\"dataframe\">\n",
       "  <thead>\n",
       "    <tr style=\"text-align: right;\">\n",
       "      <th></th>\n",
       "      <th>Channel</th>\n",
       "      <th>Avg. Viewers</th>\n",
       "      <th>Time Streamed</th>\n",
       "      <th>All-Time Peak Viewers</th>\n",
       "      <th>Hours Watched</th>\n",
       "      <th>Followers Gained</th>\n",
       "      <th>Total Followers</th>\n",
       "      <th>Total Views</th>\n",
       "    </tr>\n",
       "  </thead>\n",
       "  <tbody>\n",
       "    <tr>\n",
       "      <th>0</th>\n",
       "      <td>xQcOW</td>\n",
       "      <td>89542</td>\n",
       "      <td>333.7</td>\n",
       "      <td>222720</td>\n",
       "      <td>29880024</td>\n",
       "      <td>-2454132</td>\n",
       "      <td>5558385</td>\n",
       "      <td>331965084</td>\n",
       "    </tr>\n",
       "  </tbody>\n",
       "</table>\n",
       "</div>"
      ],
      "text/plain": [
       "  Channel  Avg. Viewers  Time Streamed  All-Time Peak Viewers  Hours Watched  \\\n",
       "0   xQcOW         89542          333.7                 222720       29880024   \n",
       "\n",
       "   Followers Gained  Total Followers  Total Views  \n",
       "0          -2454132          5558385    331965084  "
      ]
     },
     "execution_count": 25,
     "metadata": {},
     "output_type": "execute_result"
    }
   ],
   "source": [
    "df[df['Hours Watched']==df['Hours Watched'].max()]"
   ]
  },
  {
   "cell_type": "markdown",
   "id": "b0452b11",
   "metadata": {},
   "source": [
    "## Answer: Most Hours Watched = xQcOW"
   ]
  },
  {
   "cell_type": "markdown",
   "id": "a7cfe61a",
   "metadata": {},
   "source": [
    "## d. Total Followers"
   ]
  },
  {
   "cell_type": "code",
   "execution_count": 26,
   "id": "9995c0f2",
   "metadata": {},
   "outputs": [
    {
     "data": {
      "text/html": [
       "<div>\n",
       "<style scoped>\n",
       "    .dataframe tbody tr th:only-of-type {\n",
       "        vertical-align: middle;\n",
       "    }\n",
       "\n",
       "    .dataframe tbody tr th {\n",
       "        vertical-align: top;\n",
       "    }\n",
       "\n",
       "    .dataframe thead th {\n",
       "        text-align: right;\n",
       "    }\n",
       "</style>\n",
       "<table border=\"1\" class=\"dataframe\">\n",
       "  <thead>\n",
       "    <tr style=\"text-align: right;\">\n",
       "      <th></th>\n",
       "      <th>Channel</th>\n",
       "      <th>Avg. Viewers</th>\n",
       "      <th>Time Streamed</th>\n",
       "      <th>All-Time Peak Viewers</th>\n",
       "      <th>Hours Watched</th>\n",
       "      <th>Followers Gained</th>\n",
       "      <th>Total Followers</th>\n",
       "      <th>Total Views</th>\n",
       "    </tr>\n",
       "  </thead>\n",
       "  <tbody>\n",
       "    <tr>\n",
       "      <th>134</th>\n",
       "      <td>Ninja</td>\n",
       "      <td>11731</td>\n",
       "      <td>158.8</td>\n",
       "      <td>616693</td>\n",
       "      <td>1862821</td>\n",
       "      <td>-288334</td>\n",
       "      <td>16618958</td>\n",
       "      <td>535302828</td>\n",
       "    </tr>\n",
       "  </tbody>\n",
       "</table>\n",
       "</div>"
      ],
      "text/plain": [
       "    Channel  Avg. Viewers  Time Streamed  All-Time Peak Viewers  \\\n",
       "134   Ninja         11731          158.8                 616693   \n",
       "\n",
       "     Hours Watched  Followers Gained  Total Followers  Total Views  \n",
       "134        1862821           -288334         16618958    535302828  "
      ]
     },
     "execution_count": 26,
     "metadata": {},
     "output_type": "execute_result"
    }
   ],
   "source": [
    "df[df['Total Followers']==df['Total Followers'].max()]"
   ]
  },
  {
   "cell_type": "markdown",
   "id": "08abb5dc",
   "metadata": {},
   "source": [
    "## Answer: Most Total Followers = Ninja"
   ]
  },
  {
   "cell_type": "markdown",
   "id": "cfd9e83f",
   "metadata": {},
   "source": [
    "## e. Total Views"
   ]
  },
  {
   "cell_type": "code",
   "execution_count": 27,
   "id": "54ed3a04",
   "metadata": {},
   "outputs": [
    {
     "data": {
      "text/html": [
       "<div>\n",
       "<style scoped>\n",
       "    .dataframe tbody tr th:only-of-type {\n",
       "        vertical-align: middle;\n",
       "    }\n",
       "\n",
       "    .dataframe tbody tr th {\n",
       "        vertical-align: top;\n",
       "    }\n",
       "\n",
       "    .dataframe thead th {\n",
       "        text-align: right;\n",
       "    }\n",
       "</style>\n",
       "<table border=\"1\" class=\"dataframe\">\n",
       "  <thead>\n",
       "    <tr style=\"text-align: right;\">\n",
       "      <th></th>\n",
       "      <th>Channel</th>\n",
       "      <th>Avg. Viewers</th>\n",
       "      <th>Time Streamed</th>\n",
       "      <th>All-Time Peak Viewers</th>\n",
       "      <th>Hours Watched</th>\n",
       "      <th>Followers Gained</th>\n",
       "      <th>Total Followers</th>\n",
       "      <th>Total Views</th>\n",
       "    </tr>\n",
       "  </thead>\n",
       "  <tbody>\n",
       "    <tr>\n",
       "      <th>26</th>\n",
       "      <td>Fextralife</td>\n",
       "      <td>17025</td>\n",
       "      <td>249.7</td>\n",
       "      <td>69907</td>\n",
       "      <td>4251098</td>\n",
       "      <td>-17535</td>\n",
       "      <td>570162</td>\n",
       "      <td>1437723478</td>\n",
       "    </tr>\n",
       "  </tbody>\n",
       "</table>\n",
       "</div>"
      ],
      "text/plain": [
       "       Channel  Avg. Viewers  Time Streamed  All-Time Peak Viewers  \\\n",
       "26  Fextralife         17025          249.7                  69907   \n",
       "\n",
       "    Hours Watched  Followers Gained  Total Followers  Total Views  \n",
       "26        4251098            -17535           570162   1437723478  "
      ]
     },
     "execution_count": 27,
     "metadata": {},
     "output_type": "execute_result"
    }
   ],
   "source": [
    "df[df['Total Views']==df['Total Views'].max()]"
   ]
  },
  {
   "cell_type": "markdown",
   "id": "2a8675ad",
   "metadata": {},
   "source": [
    "## Answer: Most Total Views = Fextralife"
   ]
  },
  {
   "cell_type": "markdown",
   "id": "e1afd30e",
   "metadata": {},
   "source": [
    "## ."
   ]
  },
  {
   "cell_type": "markdown",
   "id": "67438258",
   "metadata": {},
   "source": [
    "## ."
   ]
  },
  {
   "cell_type": "markdown",
   "id": "f914659f",
   "metadata": {},
   "source": [
    "# 2. Who had the most Followers Gained and the most Followers Lost during the month of April?"
   ]
  },
  {
   "cell_type": "code",
   "execution_count": 28,
   "id": "03086b7d",
   "metadata": {},
   "outputs": [
    {
     "data": {
      "text/html": [
       "<div>\n",
       "<style scoped>\n",
       "    .dataframe tbody tr th:only-of-type {\n",
       "        vertical-align: middle;\n",
       "    }\n",
       "\n",
       "    .dataframe tbody tr th {\n",
       "        vertical-align: top;\n",
       "    }\n",
       "\n",
       "    .dataframe thead th {\n",
       "        text-align: right;\n",
       "    }\n",
       "</style>\n",
       "<table border=\"1\" class=\"dataframe\">\n",
       "  <thead>\n",
       "    <tr style=\"text-align: right;\">\n",
       "      <th></th>\n",
       "      <th>Channel</th>\n",
       "      <th>Avg. Viewers</th>\n",
       "      <th>Time Streamed</th>\n",
       "      <th>All-Time Peak Viewers</th>\n",
       "      <th>Hours Watched</th>\n",
       "      <th>Followers Gained</th>\n",
       "      <th>Total Followers</th>\n",
       "      <th>Total Views</th>\n",
       "    </tr>\n",
       "  </thead>\n",
       "  <tbody>\n",
       "    <tr>\n",
       "      <th>13</th>\n",
       "      <td>AdinRoss</td>\n",
       "      <td>82227</td>\n",
       "      <td>71.6</td>\n",
       "      <td>254923</td>\n",
       "      <td>5886055</td>\n",
       "      <td>2006717</td>\n",
       "      <td>3040648</td>\n",
       "      <td>15574215</td>\n",
       "    </tr>\n",
       "  </tbody>\n",
       "</table>\n",
       "</div>"
      ],
      "text/plain": [
       "     Channel  Avg. Viewers  Time Streamed  All-Time Peak Viewers  \\\n",
       "13  AdinRoss         82227           71.6                 254923   \n",
       "\n",
       "    Hours Watched  Followers Gained  Total Followers  Total Views  \n",
       "13        5886055           2006717          3040648     15574215  "
      ]
     },
     "execution_count": 28,
     "metadata": {},
     "output_type": "execute_result"
    }
   ],
   "source": [
    "df[df['Followers Gained']==df['Followers Gained'].max()]"
   ]
  },
  {
   "cell_type": "markdown",
   "id": "6ea8ae27",
   "metadata": {},
   "source": [
    "## Answer: Most Followers Gained = AdinRoss"
   ]
  },
  {
   "cell_type": "code",
   "execution_count": 29,
   "id": "2c68ddb6",
   "metadata": {},
   "outputs": [
    {
     "data": {
      "text/html": [
       "<div>\n",
       "<style scoped>\n",
       "    .dataframe tbody tr th:only-of-type {\n",
       "        vertical-align: middle;\n",
       "    }\n",
       "\n",
       "    .dataframe tbody tr th {\n",
       "        vertical-align: top;\n",
       "    }\n",
       "\n",
       "    .dataframe thead th {\n",
       "        text-align: right;\n",
       "    }\n",
       "</style>\n",
       "<table border=\"1\" class=\"dataframe\">\n",
       "  <thead>\n",
       "    <tr style=\"text-align: right;\">\n",
       "      <th></th>\n",
       "      <th>Channel</th>\n",
       "      <th>Avg. Viewers</th>\n",
       "      <th>Time Streamed</th>\n",
       "      <th>All-Time Peak Viewers</th>\n",
       "      <th>Hours Watched</th>\n",
       "      <th>Followers Gained</th>\n",
       "      <th>Total Followers</th>\n",
       "      <th>Total Views</th>\n",
       "    </tr>\n",
       "  </thead>\n",
       "  <tbody>\n",
       "    <tr>\n",
       "      <th>58</th>\n",
       "      <td>sodapoppin</td>\n",
       "      <td>19438</td>\n",
       "      <td>200.9</td>\n",
       "      <td>110052</td>\n",
       "      <td>3904157</td>\n",
       "      <td>-3245652</td>\n",
       "      <td>3037615</td>\n",
       "      <td>361584186</td>\n",
       "    </tr>\n",
       "  </tbody>\n",
       "</table>\n",
       "</div>"
      ],
      "text/plain": [
       "       Channel  Avg. Viewers  Time Streamed  All-Time Peak Viewers  \\\n",
       "58  sodapoppin         19438          200.9                 110052   \n",
       "\n",
       "    Hours Watched  Followers Gained  Total Followers  Total Views  \n",
       "58        3904157          -3245652          3037615    361584186  "
      ]
     },
     "execution_count": 29,
     "metadata": {},
     "output_type": "execute_result"
    }
   ],
   "source": [
    "df[df['Followers Gained']==df['Followers Gained'].min()]"
   ]
  },
  {
   "cell_type": "markdown",
   "id": "ffa43108",
   "metadata": {},
   "source": [
    "## Answer: Most Followers Lost  = sodapoppin"
   ]
  },
  {
   "cell_type": "markdown",
   "id": "44b6449e",
   "metadata": {},
   "source": [
    "## ."
   ]
  },
  {
   "cell_type": "markdown",
   "id": "95aab529",
   "metadata": {},
   "source": [
    "## ."
   ]
  },
  {
   "cell_type": "markdown",
   "id": "5dbe5acd",
   "metadata": {},
   "source": [
    "# 3. See if there is a correlation between Time Streamed and Followers Gained. It would be interesting to see if the more time streamed means the more followers gained. Hypothetically speaking, these channels are at the top of Twitch, so I would expect there to be very little correlation. You will need some type of chart to support your answer."
   ]
  },
  {
   "cell_type": "code",
   "execution_count": 30,
   "id": "6d2fcbd0",
   "metadata": {},
   "outputs": [
    {
     "data": {
      "image/png": "[encoded data removed]",
      "text/plain": [
       "<Figure size 432x288 with 1 Axes>"
      ]
     },
     "metadata": {
      "needs_background": "light"
     },
     "output_type": "display_data"
    }
   ],
   "source": [
    "plt.scatter(df['Time Streamed'],df['Followers Gained'])\n",
    "#plt.plot(timestreamed,followersgained)\n",
    "\n",
    "plt.xlabel(\"Time Sreamed\")\n",
    "plt.ylabel(\"Followers Gained\")\n",
    "plt.title(\"Correlation between Time Streamed & Followers Gained\")\n",
    "\n",
    "plt.show()"
   ]
  },
  {
   "cell_type": "markdown",
   "id": "a33ac81b",
   "metadata": {},
   "source": [
    "## Answer: No correlation - Due to no consistent points there is no correlation."
   ]
  },
  {
   "cell_type": "markdown",
   "id": "2c3a5958",
   "metadata": {},
   "source": [
    "## ."
   ]
  },
  {
   "cell_type": "markdown",
   "id": "a14d3473",
   "metadata": {},
   "source": [
    "## ."
   ]
  },
  {
   "cell_type": "markdown",
   "id": "55c7bcd2",
   "metadata": {},
   "source": [
    "# 4. Do average viewers multiplied by time streamed equate (roughly) to hours watched? I would believe that this calculation is true, but it would be interesting to see if there are any outliers. For instance, if someone has a really high average viewer value, but a low time streamed, their hours watched may not be equal. Please make sure to support your answer"
   ]
  },
  {
   "cell_type": "code",
   "execution_count": 31,
   "id": "be625bdd",
   "metadata": {},
   "outputs": [
    {
     "name": "stdout",
     "output_type": "stream",
     "text": [
      "Sum of Hours Watched: 829974419\n",
      "Time Streamed * Average Viewers: 830034333\n"
     ]
    },
    {
     "data": {
      "image/png": "[encoded data removed]",
      "text/plain": [
       "<Figure size 432x288 with 1 Axes>"
      ]
     },
     "metadata": {
      "needs_background": "light"
     },
     "output_type": "display_data"
    }
   ],
   "source": [
    "df[\"Average*Time\"] = df['Avg. Viewers']*df['Time Streamed']\n",
    "\n",
    "print(f\"Sum of Hours Watched: {round(df['Hours Watched'].sum())}\")\n",
    "print(f\"Time Streamed * Average Viewers: {round(df['Average*Time'].sum())}\")\n",
    "\n",
    "plt.scatter(df['Time Streamed'],df['Hours Watched'])\n",
    "#plt.plot(timestreamed,followersgained)\n",
    "\n",
    "plt.xlabel(\"Average\")\n",
    "plt.ylabel(\"Hours Watched\")\n",
    "plt.title(\"Correlation between Time Streamed * Average Viewers & Hours Watched\")\n",
    "\n",
    "plt.show()"
   ]
  },
  {
   "cell_type": "markdown",
   "id": "2779d70e",
   "metadata": {},
   "source": [
    "# Answer: It appears average viewers * time streamed have similar results to hours watched."
   ]
  },
  {
   "cell_type": "markdown",
   "id": "a0e9fc89",
   "metadata": {},
   "source": [
    "# ."
   ]
  },
  {
   "cell_type": "markdown",
   "id": "bd480035",
   "metadata": {},
   "source": [
    "# ."
   ]
  },
  {
   "cell_type": "markdown",
   "id": "5387a74f",
   "metadata": {},
   "source": [
    "# 5. Supposedly TheGrefg holds the highest record for all-time peak viewers at 2.47 million concurrent viewers? This is over 3x the next highest peak viewership… Let’s prove it by building a bar chart of the top 10 channels and their All-Time Peak Viewers"
   ]
  },
  {
   "cell_type": "code",
   "execution_count": 39,
   "id": "477b4c36",
   "metadata": {},
   "outputs": [
    {
     "data": {
      "text/plain": [
       "0    222720\n",
       "1    650237\n",
       "2    313347\n",
       "3    346132\n",
       "4    307439\n",
       "5    165293\n",
       "6    371232\n",
       "7    310998\n",
       "8    387315\n",
       "9    263353\n",
       "Name: All-Time Peak Viewers, dtype: int64"
      ]
     },
     "execution_count": 39,
     "metadata": {},
     "output_type": "execute_result"
    }
   ],
   "source": [
    "df['All-Time Peak Viewers'].head(10)"
   ]
  },
  {
   "cell_type": "markdown",
   "id": "fa80f454",
   "metadata": {},
   "source": [
    "# Answer:"
   ]
  },
  {
   "cell_type": "markdown",
   "id": "692085fa",
   "metadata": {},
   "source": [
    "# ."
   ]
  },
  {
   "cell_type": "markdown",
   "id": "4b516c3e",
   "metadata": {},
   "source": [
    "# ."
   ]
  },
  {
   "cell_type": "markdown",
   "id": "b33898f8",
   "metadata": {},
   "source": [
    "# 6. What was the total time people streamed on Twitch?"
   ]
  },
  {
   "cell_type": "code",
   "execution_count": 32,
   "id": "547514da",
   "metadata": {},
   "outputs": [
    {
     "name": "stdout",
     "output_type": "stream",
     "text": [
      "Total Time People Streamed: 72027\n",
      "\n",
      "Total Time People Streamed: 72026.79999999999\n"
     ]
    }
   ],
   "source": [
    "#df[df['Time Streamed']==df['Time Streamed'].sum()]\n",
    "print(f\"Total Time People Streamed: {round(df['Time Streamed'].sum())}\\n\")\n",
    "#Reason as why for the rounding.\n",
    "print(f\"Total Time People Streamed: {(df['Time Streamed'].sum())}\")\n",
    "\n"
   ]
  },
  {
   "cell_type": "markdown",
   "id": "86961e3d",
   "metadata": {},
   "source": [
    "# Answer: Total time people have streamed: 72,027"
   ]
  },
  {
   "cell_type": "markdown",
   "id": "588179a8",
   "metadata": {},
   "source": [
    "# ."
   ]
  },
  {
   "cell_type": "markdown",
   "id": "acd4205f",
   "metadata": {},
   "source": [
    "# ."
   ]
  },
  {
   "cell_type": "markdown",
   "id": "9d7b0b11",
   "metadata": {},
   "source": [
    "# 7. What was the total hours watched on Twitch?"
   ]
  },
  {
   "cell_type": "code",
   "execution_count": 33,
   "id": "05c65943",
   "metadata": {},
   "outputs": [
    {
     "name": "stdout",
     "output_type": "stream",
     "text": [
      "Total Hours Watched: 829974419\n"
     ]
    }
   ],
   "source": [
    "#With the help of code from the first problem it is easier to do the rest of the questions.\n",
    "print(f\"Total Hours Watched: {(df['Hours Watched'].sum())}\")"
   ]
  },
  {
   "cell_type": "markdown",
   "id": "155d99cb",
   "metadata": {},
   "source": [
    "# Answer: Total Hours Watched: 829,974,419"
   ]
  },
  {
   "cell_type": "markdown",
   "id": "df154c33",
   "metadata": {},
   "source": [
    "# ."
   ]
  },
  {
   "cell_type": "markdown",
   "id": "08f30223",
   "metadata": {},
   "source": [
    "# ."
   ]
  },
  {
   "cell_type": "markdown",
   "id": "a1ea8a37",
   "metadata": {},
   "source": [
    "# 8. Who had the highest amount of followers during the month of March?"
   ]
  },
  {
   "cell_type": "code",
   "execution_count": 34,
   "id": "a585e255",
   "metadata": {},
   "outputs": [
    {
     "data": {
      "text/html": [
       "<div>\n",
       "<style scoped>\n",
       "    .dataframe tbody tr th:only-of-type {\n",
       "        vertical-align: middle;\n",
       "    }\n",
       "\n",
       "    .dataframe tbody tr th {\n",
       "        vertical-align: top;\n",
       "    }\n",
       "\n",
       "    .dataframe thead th {\n",
       "        text-align: right;\n",
       "    }\n",
       "</style>\n",
       "<table border=\"1\" class=\"dataframe\">\n",
       "  <thead>\n",
       "    <tr style=\"text-align: right;\">\n",
       "      <th></th>\n",
       "      <th>Channel</th>\n",
       "      <th>Avg. Viewers</th>\n",
       "      <th>Time Streamed</th>\n",
       "      <th>All-Time Peak Viewers</th>\n",
       "      <th>Hours Watched</th>\n",
       "      <th>Followers Gained</th>\n",
       "      <th>Total Followers</th>\n",
       "      <th>Total Views</th>\n",
       "      <th>Average*Time</th>\n",
       "      <th>Total Followers of March</th>\n",
       "    </tr>\n",
       "  </thead>\n",
       "  <tbody>\n",
       "    <tr>\n",
       "      <th>134</th>\n",
       "      <td>Ninja</td>\n",
       "      <td>11731</td>\n",
       "      <td>158.8</td>\n",
       "      <td>616693</td>\n",
       "      <td>1862821</td>\n",
       "      <td>-288334</td>\n",
       "      <td>16618958</td>\n",
       "      <td>535302828</td>\n",
       "      <td>1862882.8</td>\n",
       "      <td>16907292</td>\n",
       "    </tr>\n",
       "  </tbody>\n",
       "</table>\n",
       "</div>"
      ],
      "text/plain": [
       "    Channel  Avg. Viewers  Time Streamed  All-Time Peak Viewers  \\\n",
       "134   Ninja         11731          158.8                 616693   \n",
       "\n",
       "     Hours Watched  Followers Gained  Total Followers  Total Views  \\\n",
       "134        1862821           -288334         16618958    535302828   \n",
       "\n",
       "     Average*Time  Total Followers of March  \n",
       "134     1862882.8                  16907292  "
      ]
     },
     "execution_count": 34,
     "metadata": {},
     "output_type": "execute_result"
    }
   ],
   "source": [
    "df[\"Total Followers of March\"] = df['Total Followers']-df['Followers Gained']\n",
    "\n",
    "#print(f\"Total Followers of March: {df['Hours Watched']}\")\n",
    "\n",
    "df[df['Total Followers of March']==df['Total Followers of March'].max()]"
   ]
  },
  {
   "cell_type": "markdown",
   "id": "2e184939",
   "metadata": {},
   "source": [
    "# Answer: The person with the highest amount of followers during the month of March is Ninja"
   ]
  },
  {
   "cell_type": "markdown",
   "id": "a794d475",
   "metadata": {},
   "source": [
    "# ."
   ]
  },
  {
   "cell_type": "markdown",
   "id": "73361b85",
   "metadata": {},
   "source": [
    "# ."
   ]
  },
  {
   "cell_type": "markdown",
   "id": "f6f48afe",
   "metadata": {},
   "source": [
    "# Twitch_2018.xlsx"
   ]
  },
  {
   "cell_type": "code",
   "execution_count": 35,
   "id": "686661e1",
   "metadata": {},
   "outputs": [],
   "source": [
    "twitch2018Data= pd.read_csv(\"clean2018.csv\",header=0)\n",
    "#print(twitch2018Data)\n",
    "\n",
    "df2 = pd.DataFrame(twitch2018Data)\n",
    "\n",
    "\n",
    "#df2[df2['January']==df2['January'].max()]\n",
    "#example to collect and print data whole row.\n",
    "\n",
    "#df2[df2['January']==df2['January']]\n",
    "\n",
    "twitch2018Data2= pd.read_csv(\"clean2018.csv\",header=0,index_col=\"Game Title\")\n",
    "\n",
    "df5 = pd.DataFrame(twitch2018Data2)"
   ]
  },
  {
   "cell_type": "markdown",
   "id": "a9ce07f0",
   "metadata": {},
   "source": [
    "# 1. Which games made the top 500 every month of 2018? (Which games had values for each month in the Peak Viewers Per Month tab?)"
   ]
  },
  {
   "cell_type": "code",
   "execution_count": 36,
   "id": "cc249405",
   "metadata": {},
   "outputs": [
    {
     "data": {
      "text/html": [
       "<div>\n",
       "<style scoped>\n",
       "    .dataframe tbody tr th:only-of-type {\n",
       "        vertical-align: middle;\n",
       "    }\n",
       "\n",
       "    .dataframe tbody tr th {\n",
       "        vertical-align: top;\n",
       "    }\n",
       "\n",
       "    .dataframe thead th {\n",
       "        text-align: right;\n",
       "    }\n",
       "</style>\n",
       "<table border=\"1\" class=\"dataframe\">\n",
       "  <thead>\n",
       "    <tr style=\"text-align: right;\">\n",
       "      <th></th>\n",
       "      <th>Game Title</th>\n",
       "      <th>January</th>\n",
       "      <th>February</th>\n",
       "      <th>March</th>\n",
       "      <th>April</th>\n",
       "      <th>May</th>\n",
       "      <th>June</th>\n",
       "      <th>July</th>\n",
       "      <th>August</th>\n",
       "      <th>September</th>\n",
       "      <th>October</th>\n",
       "      <th>November</th>\n",
       "      <th>December</th>\n",
       "    </tr>\n",
       "  </thead>\n",
       "  <tbody>\n",
       "    <tr>\n",
       "      <th>861</th>\n",
       "      <td>NHL 17</td>\n",
       "      <td>NaN</td>\n",
       "      <td>190.0</td>\n",
       "      <td>716.0</td>\n",
       "      <td>379.0</td>\n",
       "      <td>160.0</td>\n",
       "      <td>266.0</td>\n",
       "      <td>326.0</td>\n",
       "      <td>487.0</td>\n",
       "      <td>NaN</td>\n",
       "      <td>661.0</td>\n",
       "      <td>401.0</td>\n",
       "      <td>477.0</td>\n",
       "    </tr>\n",
       "    <tr>\n",
       "      <th>1445</th>\n",
       "      <td>Vindictus</td>\n",
       "      <td>NaN</td>\n",
       "      <td>251.0</td>\n",
       "      <td>NaN</td>\n",
       "      <td>NaN</td>\n",
       "      <td>NaN</td>\n",
       "      <td>NaN</td>\n",
       "      <td>974.0</td>\n",
       "      <td>NaN</td>\n",
       "      <td>NaN</td>\n",
       "      <td>NaN</td>\n",
       "      <td>NaN</td>\n",
       "      <td>8790.0</td>\n",
       "    </tr>\n",
       "    <tr>\n",
       "      <th>667</th>\n",
       "      <td>King's Raid</td>\n",
       "      <td>NaN</td>\n",
       "      <td>274.0</td>\n",
       "      <td>NaN</td>\n",
       "      <td>NaN</td>\n",
       "      <td>NaN</td>\n",
       "      <td>NaN</td>\n",
       "      <td>NaN</td>\n",
       "      <td>NaN</td>\n",
       "      <td>NaN</td>\n",
       "      <td>NaN</td>\n",
       "      <td>NaN</td>\n",
       "      <td>NaN</td>\n",
       "    </tr>\n",
       "    <tr>\n",
       "      <th>859</th>\n",
       "      <td>Neverwinter</td>\n",
       "      <td>875.0</td>\n",
       "      <td>293.0</td>\n",
       "      <td>263.0</td>\n",
       "      <td>675.0</td>\n",
       "      <td>1027.0</td>\n",
       "      <td>3660.0</td>\n",
       "      <td>1087.0</td>\n",
       "      <td>840.0</td>\n",
       "      <td>14039.0</td>\n",
       "      <td>497.0</td>\n",
       "      <td>2576.0</td>\n",
       "      <td>678.0</td>\n",
       "    </tr>\n",
       "    <tr>\n",
       "      <th>394</th>\n",
       "      <td>EverQuest</td>\n",
       "      <td>NaN</td>\n",
       "      <td>341.0</td>\n",
       "      <td>474.0</td>\n",
       "      <td>292.0</td>\n",
       "      <td>381.0</td>\n",
       "      <td>NaN</td>\n",
       "      <td>467.0</td>\n",
       "      <td>319.0</td>\n",
       "      <td>NaN</td>\n",
       "      <td>NaN</td>\n",
       "      <td>439.0</td>\n",
       "      <td>1306.0</td>\n",
       "    </tr>\n",
       "    <tr>\n",
       "      <th>...</th>\n",
       "      <td>...</td>\n",
       "      <td>...</td>\n",
       "      <td>...</td>\n",
       "      <td>...</td>\n",
       "      <td>...</td>\n",
       "      <td>...</td>\n",
       "      <td>...</td>\n",
       "      <td>...</td>\n",
       "      <td>...</td>\n",
       "      <td>...</td>\n",
       "      <td>...</td>\n",
       "      <td>...</td>\n",
       "      <td>...</td>\n",
       "    </tr>\n",
       "    <tr>\n",
       "      <th>462</th>\n",
       "      <td>Fortnite</td>\n",
       "      <td>196517.0</td>\n",
       "      <td>261996.0</td>\n",
       "      <td>862789.0</td>\n",
       "      <td>657462.0</td>\n",
       "      <td>576926.0</td>\n",
       "      <td>1460297.0</td>\n",
       "      <td>827125.0</td>\n",
       "      <td>687062.0</td>\n",
       "      <td>743971.0</td>\n",
       "      <td>591205.0</td>\n",
       "      <td>1077180.0</td>\n",
       "      <td>418403.0</td>\n",
       "    </tr>\n",
       "    <tr>\n",
       "      <th>338</th>\n",
       "      <td>Dota 2</td>\n",
       "      <td>182289.0</td>\n",
       "      <td>285802.0</td>\n",
       "      <td>397940.0</td>\n",
       "      <td>310168.0</td>\n",
       "      <td>363879.0</td>\n",
       "      <td>341454.0</td>\n",
       "      <td>150725.0</td>\n",
       "      <td>749471.0</td>\n",
       "      <td>161988.0</td>\n",
       "      <td>211365.0</td>\n",
       "      <td>353055.0</td>\n",
       "      <td>255770.0</td>\n",
       "    </tr>\n",
       "    <tr>\n",
       "      <th>684</th>\n",
       "      <td>League of Legends</td>\n",
       "      <td>435859.0</td>\n",
       "      <td>305040.0</td>\n",
       "      <td>362400.0</td>\n",
       "      <td>476710.0</td>\n",
       "      <td>504394.0</td>\n",
       "      <td>241343.0</td>\n",
       "      <td>229347.0</td>\n",
       "      <td>1029879.0</td>\n",
       "      <td>412412.0</td>\n",
       "      <td>911568.0</td>\n",
       "      <td>1147825.0</td>\n",
       "      <td>341821.0</td>\n",
       "    </tr>\n",
       "    <tr>\n",
       "      <th>232</th>\n",
       "      <td>Counter-Strike: Global Offensive</td>\n",
       "      <td>1298358.0</td>\n",
       "      <td>360635.0</td>\n",
       "      <td>490657.0</td>\n",
       "      <td>321506.0</td>\n",
       "      <td>242438.0</td>\n",
       "      <td>262105.0</td>\n",
       "      <td>237413.0</td>\n",
       "      <td>187317.0</td>\n",
       "      <td>827050.0</td>\n",
       "      <td>221263.0</td>\n",
       "      <td>308216.0</td>\n",
       "      <td>273822.0</td>\n",
       "    </tr>\n",
       "    <tr>\n",
       "      <th>949</th>\n",
       "      <td>PLAYERUNKNOWN'S BATTLEGROUNDS</td>\n",
       "      <td>192427.0</td>\n",
       "      <td>482947.0</td>\n",
       "      <td>325535.0</td>\n",
       "      <td>282830.0</td>\n",
       "      <td>221743.0</td>\n",
       "      <td>197029.0</td>\n",
       "      <td>579861.0</td>\n",
       "      <td>143941.0</td>\n",
       "      <td>193470.0</td>\n",
       "      <td>143135.0</td>\n",
       "      <td>97870.0</td>\n",
       "      <td>124698.0</td>\n",
       "    </tr>\n",
       "  </tbody>\n",
       "</table>\n",
       "<p>500 rows × 13 columns</p>\n",
       "</div>"
      ],
      "text/plain": [
       "                            Game Title    January  February     March  \\\n",
       "861                             NHL 17        NaN     190.0     716.0   \n",
       "1445                         Vindictus        NaN     251.0       NaN   \n",
       "667                        King's Raid        NaN     274.0       NaN   \n",
       "859                        Neverwinter      875.0     293.0     263.0   \n",
       "394                          EverQuest        NaN     341.0     474.0   \n",
       "...                                ...        ...       ...       ...   \n",
       "462                           Fortnite   196517.0  261996.0  862789.0   \n",
       "338                             Dota 2   182289.0  285802.0  397940.0   \n",
       "684                  League of Legends   435859.0  305040.0  362400.0   \n",
       "232   Counter-Strike: Global Offensive  1298358.0  360635.0  490657.0   \n",
       "949      PLAYERUNKNOWN'S BATTLEGROUNDS   192427.0  482947.0  325535.0   \n",
       "\n",
       "         April       May       June      July     August  September   October  \\\n",
       "861      379.0     160.0      266.0     326.0      487.0        NaN     661.0   \n",
       "1445       NaN       NaN        NaN     974.0        NaN        NaN       NaN   \n",
       "667        NaN       NaN        NaN       NaN        NaN        NaN       NaN   \n",
       "859      675.0    1027.0     3660.0    1087.0      840.0    14039.0     497.0   \n",
       "394      292.0     381.0        NaN     467.0      319.0        NaN       NaN   \n",
       "...        ...       ...        ...       ...        ...        ...       ...   \n",
       "462   657462.0  576926.0  1460297.0  827125.0   687062.0   743971.0  591205.0   \n",
       "338   310168.0  363879.0   341454.0  150725.0   749471.0   161988.0  211365.0   \n",
       "684   476710.0  504394.0   241343.0  229347.0  1029879.0   412412.0  911568.0   \n",
       "232   321506.0  242438.0   262105.0  237413.0   187317.0   827050.0  221263.0   \n",
       "949   282830.0  221743.0   197029.0  579861.0   143941.0   193470.0  143135.0   \n",
       "\n",
       "       November  December  \n",
       "861       401.0     477.0  \n",
       "1445        NaN    8790.0  \n",
       "667         NaN       NaN  \n",
       "859      2576.0     678.0  \n",
       "394       439.0    1306.0  \n",
       "...         ...       ...  \n",
       "462   1077180.0  418403.0  \n",
       "338    353055.0  255770.0  \n",
       "684   1147825.0  341821.0  \n",
       "232    308216.0  273822.0  \n",
       "949     97870.0  124698.0  \n",
       "\n",
       "[500 rows x 13 columns]"
      ]
     },
     "execution_count": 36,
     "metadata": {},
     "output_type": "execute_result"
    }
   ],
   "source": [
    "df2.sort_values('January').head(500)\n",
    "df2.sort_values('February').head(500)\n"
   ]
  },
  {
   "cell_type": "markdown",
   "id": "b22ff8d3",
   "metadata": {},
   "source": [
    "# Answer:"
   ]
  },
  {
   "cell_type": "markdown",
   "id": "784e6c2e",
   "metadata": {},
   "source": [
    "# ."
   ]
  },
  {
   "cell_type": "markdown",
   "id": "d12005ef",
   "metadata": {},
   "source": [
    "# ."
   ]
  },
  {
   "cell_type": "markdown",
   "id": "0be8679e",
   "metadata": {},
   "source": [
    "# 2. Which game had the Max Viewers for each Month?\n",
    "    a. Output Example:\n",
    "        January: Game\n",
    "        Februrary: Game\n",
    "        March: Game\n",
    "        etc etc etc"
   ]
  },
  {
   "cell_type": "code",
   "execution_count": 37,
   "id": "11712398",
   "metadata": {
    "scrolled": true
   },
   "outputs": [
    {
     "name": "stdout",
     "output_type": "stream",
     "text": [
      "\n",
      "January:                            Game Title    January  February     March  \\\n",
      "232  Counter-Strike: Global Offensive  1298358.0  360635.0  490657.0   \n",
      "\n",
      "        April       May      June      July    August  September   October  \\\n",
      "232  321506.0  242438.0  262105.0  237413.0  187317.0   827050.0  221263.0   \n",
      "\n",
      "     November  December  \n",
      "232  308216.0  273822.0  \n",
      "February:                         Game Title   January  February     March     April  \\\n",
      "949  PLAYERUNKNOWN'S BATTLEGROUNDS  192427.0  482947.0  325535.0  282830.0   \n",
      "\n",
      "          May      June      July    August  September   October  November  \\\n",
      "949  221743.0  197029.0  579861.0  143941.0   193470.0  143135.0   97870.0   \n",
      "\n",
      "     December  \n",
      "949  124698.0  \n",
      "March:     Game Title   January  February     March     April       May       June  \\\n",
      "462   Fortnite  196517.0  261996.0  862789.0  657462.0  576926.0  1460297.0   \n",
      "\n",
      "         July    August  September   October   November  December  \n",
      "462  827125.0  687062.0   743971.0  591205.0  1077180.0  418403.0  \n",
      "April:     Game Title   January  February     March     April       May       June  \\\n",
      "462   Fortnite  196517.0  261996.0  862789.0  657462.0  576926.0  1460297.0   \n",
      "\n",
      "         July    August  September   October   November  December  \n",
      "462  827125.0  687062.0   743971.0  591205.0  1077180.0  418403.0  \n",
      "May:     Game Title   January  February     March     April       May       June  \\\n",
      "462   Fortnite  196517.0  261996.0  862789.0  657462.0  576926.0  1460297.0   \n",
      "\n",
      "         July    August  September   October   November  December  \n",
      "462  827125.0  687062.0   743971.0  591205.0  1077180.0  418403.0  \n",
      "June:     Game Title  January  February  March  April  May       June  July  August  \\\n",
      "368    E3 2018      NaN       NaN    NaN    NaN  NaN  1817345.0   NaN     NaN   \n",
      "\n",
      "     September  October  November  December  \n",
      "368        NaN      NaN       NaN       NaN  \n",
      "July:     Game Title   January  February     March     April       May       June  \\\n",
      "462   Fortnite  196517.0  261996.0  862789.0  657462.0  576926.0  1460297.0   \n",
      "\n",
      "         July    August  September   October   November  December  \n",
      "462  827125.0  687062.0   743971.0  591205.0  1077180.0  418403.0  \n",
      "August:        Game Title  January  February  March  April  May  June  July  \\\n",
      "153  Boxing Fight      NaN       NaN    NaN    NaN  NaN   NaN   NaN   \n",
      "\n",
      "        August  September  October  November  December  \n",
      "153  1097362.0        NaN      NaN       NaN       NaN  \n",
      "September:                            Game Title    January  February     March  \\\n",
      "232  Counter-Strike: Global Offensive  1298358.0  360635.0  490657.0   \n",
      "\n",
      "        April       May      June      July    August  September   October  \\\n",
      "232  321506.0  242438.0  262105.0  237413.0  187317.0   827050.0  221263.0   \n",
      "\n",
      "     November  December  \n",
      "232  308216.0  273822.0  \n",
      "October:             Game Title   January  February     March     April       May  \\\n",
      "684  League of Legends  435859.0  305040.0  362400.0  476710.0  504394.0   \n",
      "\n",
      "         June      July     August  September   October   November  December  \n",
      "684  241343.0  229347.0  1029879.0   412412.0  911568.0  1147825.0  341821.0  \n",
      "November:             Game Title   January  February     March     April       May  \\\n",
      "684  League of Legends  435859.0  305040.0  362400.0  476710.0  504394.0   \n",
      "\n",
      "         June      July     August  September   October   November  December  \n",
      "684  241343.0  229347.0  1029879.0   412412.0  911568.0  1147825.0  341821.0  \n",
      "December:            Game Title  January  February  March  April  May  June  July  \\\n",
      "1306  The Game Awards      NaN       NaN    NaN    NaN  NaN   NaN   NaN   \n",
      "\n",
      "      August  September  October  November  December  \n",
      "1306     NaN        NaN      NaN       NaN  819968.0  \n",
      "\n"
     ]
    }
   ],
   "source": [
    "print(f\"\"\"\n",
    "January: {df2[df2['January']==df2['January'].max()]}\n",
    "February: {df2[df2['February']==df2['February'].max()]}\n",
    "March: {df2[df2['March']==df2['March'].max()]}\n",
    "April: {df2[df2['April']==df2['April'].max()]}\n",
    "May: {df2[df2['May']==df2['May'].max()]}\n",
    "June: {df2[df2['June']==df2['June'].max()]}\n",
    "July: {df2[df2['July']==df2['July'].max()]}\n",
    "August: {df2[df2['August']==df2['August'].max()]}\n",
    "September: {df2[df2['September']==df2['September'].max()]}\n",
    "October: {df2[df2['October']==df2['October'].max()]}\n",
    "November: {df2[df2['November']==df2['November'].max()]}\n",
    "December: {df2[df2['December']==df2['December'].max()]}\n",
    "\"\"\")"
   ]
  },
  {
   "cell_type": "markdown",
   "id": "933f1969",
   "metadata": {},
   "source": [
    "# Answer:\n",
    "   ### January: Counter-Strike: Global Offensive\n",
    "   ### February: PLAYERUNKNOWN'S BATTLEGROUNDS\n",
    "   ### March: Fortnite\n",
    "   ### April: Fortnite\n",
    "   ### May: Fortnite\n",
    "   ### June: E3 2018\n",
    "   ### July: Fortnite\n",
    "   ### August: Boxing Fight\n",
    "   ### September: Counter-Strike: Global Offensive\n",
    "   ### October: League of Legends\n",
    "   ### November: League of Legends\n",
    "   ### December: The Game Awards"
   ]
  },
  {
   "cell_type": "markdown",
   "id": "3629c266",
   "metadata": {},
   "source": [
    "# ."
   ]
  },
  {
   "cell_type": "markdown",
   "id": "9ae90c23",
   "metadata": {},
   "source": [
    "# ."
   ]
  },
  {
   "cell_type": "markdown",
   "id": "2f1647d9",
   "metadata": {},
   "source": [
    "# 3. According to this data, which game series was more popular during the year of 2018:\n",
    "   #### a. Call of Duty\n",
    "   #### b. Battlefield\n",
    "   #### c. FIFA\n",
    "   #### d. GTA#### \n",
    "   #### e. Mario\n",
    "   #### f. Pokemon\n",
    "   #### g. Final Fantasy\n",
    "   #### *** Use a Pie Chart to support your answer ***"
   ]
  },
  {
   "cell_type": "code",
   "execution_count": 38,
   "id": "51145a4a",
   "metadata": {},
   "outputs": [
    {
     "ename": "KeyError",
     "evalue": "'Total View of 2018'",
     "output_type": "error",
     "traceback": [
      "\u001b[1;31m---------------------------------------------------------------------------\u001b[0m",
      "\u001b[1;31mKeyError\u001b[0m                                  Traceback (most recent call last)",
      "File \u001b[1;32m~\\AppData\\Local\\Programs\\Python\\Python310\\lib\\site-packages\\pandas\\core\\indexes\\base.py:3621\u001b[0m, in \u001b[0;36mIndex.get_loc\u001b[1;34m(self, key, method, tolerance)\u001b[0m\n\u001b[0;32m   3620\u001b[0m \u001b[38;5;28;01mtry\u001b[39;00m:\n\u001b[1;32m-> 3621\u001b[0m     \u001b[38;5;28;01mreturn\u001b[39;00m \u001b[38;5;28;43mself\u001b[39;49m\u001b[38;5;241;43m.\u001b[39;49m\u001b[43m_engine\u001b[49m\u001b[38;5;241;43m.\u001b[39;49m\u001b[43mget_loc\u001b[49m\u001b[43m(\u001b[49m\u001b[43mcasted_key\u001b[49m\u001b[43m)\u001b[49m\n\u001b[0;32m   3622\u001b[0m \u001b[38;5;28;01mexcept\u001b[39;00m \u001b[38;5;167;01mKeyError\u001b[39;00m \u001b[38;5;28;01mas\u001b[39;00m err:\n",
      "File \u001b[1;32m~\\AppData\\Local\\Programs\\Python\\Python310\\lib\\site-packages\\pandas\\_libs\\index.pyx:136\u001b[0m, in \u001b[0;36mpandas._libs.index.IndexEngine.get_loc\u001b[1;34m()\u001b[0m\n",
      "File \u001b[1;32m~\\AppData\\Local\\Programs\\Python\\Python310\\lib\\site-packages\\pandas\\_libs\\index.pyx:163\u001b[0m, in \u001b[0;36mpandas._libs.index.IndexEngine.get_loc\u001b[1;34m()\u001b[0m\n",
      "File \u001b[1;32mpandas\\_libs\\hashtable_class_helper.pxi:5198\u001b[0m, in \u001b[0;36mpandas._libs.hashtable.PyObjectHashTable.get_item\u001b[1;34m()\u001b[0m\n",
      "File \u001b[1;32mpandas\\_libs\\hashtable_class_helper.pxi:5206\u001b[0m, in \u001b[0;36mpandas._libs.hashtable.PyObjectHashTable.get_item\u001b[1;34m()\u001b[0m\n",
      "\u001b[1;31mKeyError\u001b[0m: 'Total View of 2018'",
      "\nThe above exception was the direct cause of the following exception:\n",
      "\u001b[1;31mKeyError\u001b[0m                                  Traceback (most recent call last)",
      "Input \u001b[1;32mIn [38]\u001b[0m, in \u001b[0;36m<cell line: 14>\u001b[1;34m()\u001b[0m\n\u001b[0;32m      1\u001b[0m df5[\u001b[38;5;124m\"\u001b[39m\u001b[38;5;124mTotal View of 2018\u001b[39m\u001b[38;5;124m\"\u001b[39m] \u001b[38;5;241m=\u001b[39m df5[\u001b[38;5;124m'\u001b[39m\u001b[38;5;124mJanuary\u001b[39m\u001b[38;5;124m'\u001b[39m]\u001b[38;5;241m+\u001b[39mdf5[\u001b[38;5;124m'\u001b[39m\u001b[38;5;124mFebruary\u001b[39m\u001b[38;5;124m'\u001b[39m]\u001b[38;5;241m+\u001b[39mdf5[\u001b[38;5;124m'\u001b[39m\u001b[38;5;124mMarch\u001b[39m\u001b[38;5;124m'\u001b[39m]\u001b[38;5;241m+\u001b[39mdf5[\u001b[38;5;124m'\u001b[39m\u001b[38;5;124mApril\u001b[39m\u001b[38;5;124m'\u001b[39m]\u001b[38;5;241m+\u001b[39mdf5[\u001b[38;5;124m'\u001b[39m\u001b[38;5;124mMay\u001b[39m\u001b[38;5;124m'\u001b[39m]\u001b[38;5;241m+\u001b[39mdf5[\u001b[38;5;124m'\u001b[39m\u001b[38;5;124mJune\u001b[39m\u001b[38;5;124m'\u001b[39m]\u001b[38;5;241m+\u001b[39mdf5[\u001b[38;5;124m'\u001b[39m\u001b[38;5;124mJuly\u001b[39m\u001b[38;5;124m'\u001b[39m]\u001b[38;5;241m+\u001b[39mdf5[\u001b[38;5;124m'\u001b[39m\u001b[38;5;124mAugust\u001b[39m\u001b[38;5;124m'\u001b[39m]\u001b[38;5;241m+\u001b[39mdf5[\u001b[38;5;124m'\u001b[39m\u001b[38;5;124mSeptember\u001b[39m\u001b[38;5;124m'\u001b[39m]\u001b[38;5;241m+\u001b[39mdf5[\u001b[38;5;124m'\u001b[39m\u001b[38;5;124mOctober\u001b[39m\u001b[38;5;124m'\u001b[39m]\u001b[38;5;241m+\u001b[39mdf5[\u001b[38;5;124m'\u001b[39m\u001b[38;5;124mNovember\u001b[39m\u001b[38;5;124m'\u001b[39m]\u001b[38;5;241m+\u001b[39mdf5[\u001b[38;5;124m'\u001b[39m\u001b[38;5;124mDecember\u001b[39m\u001b[38;5;124m'\u001b[39m]\n\u001b[0;32m      4\u001b[0m \u001b[38;5;66;03m#df5[\"CallofDuty\"] = (df5.loc[\"Call of Duty: Black Ops\",\"Call of Duty: Black Ops 4\"],[\"Total View of 2018\"].sum())\u001b[39;00m\n\u001b[0;32m      5\u001b[0m \u001b[38;5;66;03m#df5[\"BattleField\"] =\u001b[39;00m\n\u001b[0;32m      6\u001b[0m \u001b[38;5;66;03m#df5[\"FIFA\"] = \u001b[39;00m\n\u001b[1;32m   (...)\u001b[0m\n\u001b[0;32m     11\u001b[0m \n\u001b[0;32m     12\u001b[0m \u001b[38;5;66;03m#twitch2018Data\u001b[39;00m\n\u001b[0;32m     14\u001b[0m df5 \u001b[38;5;241m=\u001b[39m pd\u001b[38;5;241m.\u001b[39mDataFrame({\n\u001b[0;32m     15\u001b[0m     \u001b[38;5;124m'\u001b[39m\u001b[38;5;124mMonths\u001b[39m\u001b[38;5;124m'\u001b[39m: [\u001b[38;5;124m\"\u001b[39m\u001b[38;5;124mJanuary\u001b[39m\u001b[38;5;124m\"\u001b[39m,\u001b[38;5;124m\"\u001b[39m\u001b[38;5;124mFebruary\u001b[39m\u001b[38;5;124m\"\u001b[39m,\u001b[38;5;124m\"\u001b[39m\u001b[38;5;124mMarch\u001b[39m\u001b[38;5;124m\"\u001b[39m,\u001b[38;5;124m\"\u001b[39m\u001b[38;5;124mApril\u001b[39m\u001b[38;5;124m\"\u001b[39m,\u001b[38;5;124m\"\u001b[39m\u001b[38;5;124mMay\u001b[39m\u001b[38;5;124m\"\u001b[39m,\u001b[38;5;124m\"\u001b[39m\u001b[38;5;124mJune\u001b[39m\u001b[38;5;124m\"\u001b[39m,\u001b[38;5;124m\"\u001b[39m\u001b[38;5;124mJuly\u001b[39m\u001b[38;5;124m\"\u001b[39m,\u001b[38;5;124m\"\u001b[39m\u001b[38;5;124mAugust\u001b[39m\u001b[38;5;124m\"\u001b[39m,\u001b[38;5;124m\"\u001b[39m\u001b[38;5;124mSeptember\u001b[39m\u001b[38;5;124m\"\u001b[39m,\u001b[38;5;124m\"\u001b[39m\u001b[38;5;124mOctober\u001b[39m\u001b[38;5;124m\"\u001b[39m,\u001b[38;5;124m\"\u001b[39m\u001b[38;5;124mNovember\u001b[39m\u001b[38;5;124m\"\u001b[39m,\u001b[38;5;124m\"\u001b[39m\u001b[38;5;124mDecember\u001b[39m\u001b[38;5;124m\"\u001b[39m],\n\u001b[1;32m---> 16\u001b[0m     \u001b[38;5;124m'\u001b[39m\u001b[38;5;124mViewers\u001b[39m\u001b[38;5;124m'\u001b[39m: [(df5[\u001b[38;5;124m'\u001b[39m\u001b[38;5;124mTotal View of 2018\u001b[39m\u001b[38;5;124m'\u001b[39m]\u001b[38;5;241m.\u001b[39mmax()),(df5[\u001b[38;5;124m'\u001b[39m\u001b[38;5;124mTotal View of 2018\u001b[39m\u001b[38;5;124m'\u001b[39m]\u001b[38;5;241m.\u001b[39mmax()),(\u001b[43mdf2\u001b[49m\u001b[43m[\u001b[49m\u001b[38;5;124;43m'\u001b[39;49m\u001b[38;5;124;43mTotal View of 2018\u001b[39;49m\u001b[38;5;124;43m'\u001b[39;49m\u001b[43m]\u001b[49m\u001b[38;5;241m.\u001b[39mmax()),(df2[\u001b[38;5;124m'\u001b[39m\u001b[38;5;124mTotal View of 2018\u001b[39m\u001b[38;5;124m'\u001b[39m]\u001b[38;5;241m.\u001b[39mmax()),(df2[\u001b[38;5;124m'\u001b[39m\u001b[38;5;124mTotal View of 2018\u001b[39m\u001b[38;5;124m'\u001b[39m]\u001b[38;5;241m.\u001b[39mmax()),(df2[\u001b[38;5;124m'\u001b[39m\u001b[38;5;124mTotal View of 2018\u001b[39m\u001b[38;5;124m'\u001b[39m]\u001b[38;5;241m.\u001b[39mmax()),(df2[\u001b[38;5;124m'\u001b[39m\u001b[38;5;124mTotal View of 2018\u001b[39m\u001b[38;5;124m'\u001b[39m]\u001b[38;5;241m.\u001b[39mmax()),(df2[\u001b[38;5;124m'\u001b[39m\u001b[38;5;124mTotal View of 2018\u001b[39m\u001b[38;5;124m'\u001b[39m]\u001b[38;5;241m.\u001b[39mmax()),(df2[\u001b[38;5;124m'\u001b[39m\u001b[38;5;124mTotal View of 2018\u001b[39m\u001b[38;5;124m'\u001b[39m]\u001b[38;5;241m.\u001b[39mmax()),(df2[\u001b[38;5;124m'\u001b[39m\u001b[38;5;124mTotal View of 2018\u001b[39m\u001b[38;5;124m'\u001b[39m]\u001b[38;5;241m.\u001b[39mmax()),(df2[\u001b[38;5;124m'\u001b[39m\u001b[38;5;124mTotal View of 2018\u001b[39m\u001b[38;5;124m'\u001b[39m]\u001b[38;5;241m.\u001b[39mmax()),(df2[\u001b[38;5;124m'\u001b[39m\u001b[38;5;124mTotal View of 2018\u001b[39m\u001b[38;5;124m'\u001b[39m]\u001b[38;5;241m.\u001b[39mmax())]\n\u001b[0;32m     17\u001b[0m })\n\u001b[0;32m     23\u001b[0m \u001b[38;5;66;03m#[(df2['January'].max()),(df2['February'].max()),(df2['March'].max()),(df2['April'].max()),(df2['May'].max()),(df2['June'].max()),(df2['July'].max()),(df2['August'].max()),(df2['September'].max()),(df2['October'].max()),(df2['November'].max()),(df2['December'].max())]\u001b[39;00m\n\u001b[0;32m     25\u001b[0m plt\u001b[38;5;241m.\u001b[39mpie(df5[\u001b[38;5;124m\"\u001b[39m\u001b[38;5;124mViewers\u001b[39m\u001b[38;5;124m\"\u001b[39m], labels\u001b[38;5;241m=\u001b[39mdf5[\u001b[38;5;124m'\u001b[39m\u001b[38;5;124mMonths\u001b[39m\u001b[38;5;124m'\u001b[39m])\n",
      "File \u001b[1;32m~\\AppData\\Local\\Programs\\Python\\Python310\\lib\\site-packages\\pandas\\core\\frame.py:3505\u001b[0m, in \u001b[0;36mDataFrame.__getitem__\u001b[1;34m(self, key)\u001b[0m\n\u001b[0;32m   3503\u001b[0m \u001b[38;5;28;01mif\u001b[39;00m \u001b[38;5;28mself\u001b[39m\u001b[38;5;241m.\u001b[39mcolumns\u001b[38;5;241m.\u001b[39mnlevels \u001b[38;5;241m>\u001b[39m \u001b[38;5;241m1\u001b[39m:\n\u001b[0;32m   3504\u001b[0m     \u001b[38;5;28;01mreturn\u001b[39;00m \u001b[38;5;28mself\u001b[39m\u001b[38;5;241m.\u001b[39m_getitem_multilevel(key)\n\u001b[1;32m-> 3505\u001b[0m indexer \u001b[38;5;241m=\u001b[39m \u001b[38;5;28;43mself\u001b[39;49m\u001b[38;5;241;43m.\u001b[39;49m\u001b[43mcolumns\u001b[49m\u001b[38;5;241;43m.\u001b[39;49m\u001b[43mget_loc\u001b[49m\u001b[43m(\u001b[49m\u001b[43mkey\u001b[49m\u001b[43m)\u001b[49m\n\u001b[0;32m   3506\u001b[0m \u001b[38;5;28;01mif\u001b[39;00m is_integer(indexer):\n\u001b[0;32m   3507\u001b[0m     indexer \u001b[38;5;241m=\u001b[39m [indexer]\n",
      "File \u001b[1;32m~\\AppData\\Local\\Programs\\Python\\Python310\\lib\\site-packages\\pandas\\core\\indexes\\base.py:3623\u001b[0m, in \u001b[0;36mIndex.get_loc\u001b[1;34m(self, key, method, tolerance)\u001b[0m\n\u001b[0;32m   3621\u001b[0m     \u001b[38;5;28;01mreturn\u001b[39;00m \u001b[38;5;28mself\u001b[39m\u001b[38;5;241m.\u001b[39m_engine\u001b[38;5;241m.\u001b[39mget_loc(casted_key)\n\u001b[0;32m   3622\u001b[0m \u001b[38;5;28;01mexcept\u001b[39;00m \u001b[38;5;167;01mKeyError\u001b[39;00m \u001b[38;5;28;01mas\u001b[39;00m err:\n\u001b[1;32m-> 3623\u001b[0m     \u001b[38;5;28;01mraise\u001b[39;00m \u001b[38;5;167;01mKeyError\u001b[39;00m(key) \u001b[38;5;28;01mfrom\u001b[39;00m \u001b[38;5;21;01merr\u001b[39;00m\n\u001b[0;32m   3624\u001b[0m \u001b[38;5;28;01mexcept\u001b[39;00m \u001b[38;5;167;01mTypeError\u001b[39;00m:\n\u001b[0;32m   3625\u001b[0m     \u001b[38;5;66;03m# If we have a listlike key, _check_indexing_error will raise\u001b[39;00m\n\u001b[0;32m   3626\u001b[0m     \u001b[38;5;66;03m#  InvalidIndexError. Otherwise we fall through and re-raise\u001b[39;00m\n\u001b[0;32m   3627\u001b[0m     \u001b[38;5;66;03m#  the TypeError.\u001b[39;00m\n\u001b[0;32m   3628\u001b[0m     \u001b[38;5;28mself\u001b[39m\u001b[38;5;241m.\u001b[39m_check_indexing_error(key)\n",
      "\u001b[1;31mKeyError\u001b[0m: 'Total View of 2018'"
     ]
    }
   ],
   "source": [
    "df5[\"Total View of 2018\"] = df5['January']+df5['February']+df5['March']+df5['April']+df5['May']+df5['June']+df5['July']+df5['August']+df5['September']+df5['October']+df5['November']+df5['December']\n",
    "\n",
    "\n",
    "#df5[\"CallofDuty\"] = (df5.loc[\"Call of Duty: Black Ops\",\"Call of Duty: Black Ops 4\"],[\"Total View of 2018\"].sum())\n",
    "#df5[\"BattleField\"] =\n",
    "#df5[\"FIFA\"] = \n",
    "#df5[\"GTA\"] = \n",
    "#df5[\"Mario\"] = \n",
    "#df5[\"Pokemon\"] = \n",
    "#df5[\"FinalFantasy\"] = \n",
    "\n",
    "#twitch2018Data\n",
    "\n",
    "df5 = pd.DataFrame({\n",
    "    'Months': [\"January\",\"February\",\"March\",\"April\",\"May\",\"June\",\"July\",\"August\",\"September\",\"October\",\"November\",\"December\"],\n",
    "    'Viewers': [(df5['Total View of 2018'].max()),(df5['Total View of 2018'].max()),(df2['Total View of 2018'].max()),(df2['Total View of 2018'].max()),(df2['Total View of 2018'].max()),(df2['Total View of 2018'].max()),(df2['Total View of 2018'].max()),(df2['Total View of 2018'].max()),(df2['Total View of 2018'].max()),(df2['Total View of 2018'].max()),(df2['Total View of 2018'].max()),(df2['Total View of 2018'].max())]\n",
    "})\n",
    "\n",
    "\n",
    "\n",
    "\n",
    "\n",
    "#[(df2['January'].max()),(df2['February'].max()),(df2['March'].max()),(df2['April'].max()),(df2['May'].max()),(df2['June'].max()),(df2['July'].max()),(df2['August'].max()),(df2['September'].max()),(df2['October'].max()),(df2['November'].max()),(df2['December'].max())]\n",
    "\n",
    "plt.pie(df5[\"Viewers\"], labels=df5['Months'])\n",
    "\n",
    "#df2[df2['Total View of 2018']==df2['Total View of 2018'].max()]\n",
    "\n",
    "#print(df5[\"CallofDuty\"])"
   ]
  },
  {
   "cell_type": "markdown",
   "id": "8f6f2148",
   "metadata": {},
   "source": [
    "# Answer: Possible answer Final Fantasy"
   ]
  },
  {
   "cell_type": "markdown",
   "id": "5b8640cb",
   "metadata": {},
   "source": [
    "# ."
   ]
  },
  {
   "cell_type": "markdown",
   "id": "0b8e6b4f",
   "metadata": {},
   "source": [
    "# ."
   ]
  },
  {
   "cell_type": "markdown",
   "id": "f54da4eb",
   "metadata": {},
   "source": [
    "# 4. Which Lego game was the least popular throughout 2018?"
   ]
  },
  {
   "cell_type": "code",
   "execution_count": null,
   "id": "b833d720",
   "metadata": {},
   "outputs": [],
   "source": []
  },
  {
   "cell_type": "markdown",
   "id": "dfd7c36f",
   "metadata": {},
   "source": [
    "# Answer: Lego Starwars : The Complete Saga"
   ]
  },
  {
   "cell_type": "markdown",
   "id": "1ff01b96",
   "metadata": {},
   "source": [
    "# ."
   ]
  },
  {
   "cell_type": "markdown",
   "id": "a431d5c7",
   "metadata": {},
   "source": [
    "# ."
   ]
  },
  {
   "cell_type": "markdown",
   "id": "7a5a59a9",
   "metadata": {},
   "source": [
    "# 5. Which month had the most viewers?"
   ]
  },
  {
   "cell_type": "code",
   "execution_count": null,
   "id": "4fe08271",
   "metadata": {},
   "outputs": [],
   "source": [
    "print(f\"\"\"\n",
    "Total January: {(df2['January'].sum())}\n",
    "Total February: {(df2['February'].sum())}\n",
    "Total March: {(df2['March'].sum())}\n",
    "Total April: {(df2['April'].sum())}\n",
    "Total May: {(df2['May'].sum())}\n",
    "Total June: {(df2['June'].sum())}\n",
    "Total July: {(df2['July'].sum())}\n",
    "Total August: {(df2['August'].sum())}\n",
    "Total September: {(df2['September'].sum())}\n",
    "Total October: {(df2['October'].sum())}\n",
    "Total November: {(df2['November'].sum())}\n",
    "Total December: {(df2['December'].sum())}\n",
    "\"\"\")\n"
   ]
  },
  {
   "cell_type": "markdown",
   "id": "7d89fff2",
   "metadata": {},
   "source": [
    "# Answer: According to the graph below. January had the most viewers."
   ]
  },
  {
   "cell_type": "markdown",
   "id": "55384fa5",
   "metadata": {},
   "source": [
    "# ."
   ]
  },
  {
   "cell_type": "markdown",
   "id": "72acdfa9",
   "metadata": {},
   "source": [
    "# ."
   ]
  },
  {
   "cell_type": "markdown",
   "id": "1b81e448",
   "metadata": {},
   "source": [
    "# 6. We are looking for which month has the highest number of viewers. Is there a reason why that month would be higher than the rest? If there isn’t please prove it. Suggestion: use a graph to show which month has the highest volume of viewers."
   ]
  },
  {
   "cell_type": "code",
   "execution_count": null,
   "id": "cbde9917",
   "metadata": {},
   "outputs": [],
   "source": [
    "df3 = pd.DataFrame({\n",
    "    'Months': [\"January\",\"February\",\"March\",\"April\",\"May\",\"June\",\"July\",\"August\",\"September\",\"October\",\"November\",\"December\"],\n",
    "    'Viewers': [(df2['January'].sum()),(df2['February'].sum()),(df2['March'].sum()),(df2['April'].sum()),(df2['May'].sum()),(df2['June'].sum()),(df2['July'].sum()),(df2['August'].sum()),(df2['September'].sum()),(df2['October'].sum()),(df2['November'].sum()),(df2['December'].sum())]\n",
    "})\n",
    "\n",
    "df3.plot(x=\"Months\",y=\"Viewers\",kind=\"bar\")\n"
   ]
  },
  {
   "cell_type": "markdown",
   "id": "477b8bd2",
   "metadata": {},
   "source": [
    "# Answer: January and June have unusally a high volume of viewers. I'd hypothesize that the New Year leads  to a large volume and June perhaps large game annoucements by companies."
   ]
  },
  {
   "cell_type": "markdown",
   "id": "47dba14a",
   "metadata": {},
   "source": [
    "# ."
   ]
  },
  {
   "cell_type": "markdown",
   "id": "0ec19392",
   "metadata": {},
   "source": [
    "# ."
   ]
  },
  {
   "cell_type": "markdown",
   "id": "9fcd1ea6",
   "metadata": {},
   "source": [
    "# 7. What is Pokémon: Let’s Go, Pikachu!/Eevee!?"
   ]
  },
  {
   "cell_type": "code",
   "execution_count": null,
   "id": "73f23abf",
   "metadata": {},
   "outputs": [],
   "source": [
    "#No code needed"
   ]
  },
  {
   "cell_type": "markdown",
   "id": "2967ee94",
   "metadata": {},
   "source": [
    "# Answer: Basically Let's Go, Pikachu!/Eevee are remakes of the first pokemon games, although more specifically of Pokemon yellow."
   ]
  },
  {
   "cell_type": "markdown",
   "id": "be5932a5",
   "metadata": {},
   "source": [
    "# ."
   ]
  },
  {
   "cell_type": "markdown",
   "id": "c8177686",
   "metadata": {},
   "source": [
    "# ."
   ]
  },
  {
   "cell_type": "markdown",
   "id": "d6fc0f99",
   "metadata": {},
   "source": [
    "# 8. Is your favorite game on this list?"
   ]
  },
  {
   "cell_type": "code",
   "execution_count": null,
   "id": "2b6b2288",
   "metadata": {},
   "outputs": [],
   "source": [
    "#No code needed either"
   ]
  },
  {
   "cell_type": "markdown",
   "id": "7286c2a1",
   "metadata": {},
   "source": [
    "# Answer: I don't exacly have a favorite game, so a list of games that I've played would be (Games in file):\n",
    "### Hades\n",
    "### Legend of Zelda: Breath of the Wild\n",
    "### Fallout 4\n",
    "### Borderlands\n",
    "### Splatoon 2\n",
    "### Super Smash Bros. Brawl\n",
    "### Super Smash Bros. for Wii U\n",
    "### Super Smash Bros. Ultimate\n",
    "### etc."
   ]
  },
  {
   "cell_type": "markdown",
   "id": "b9033a5e",
   "metadata": {},
   "source": [
    "# ."
   ]
  },
  {
   "cell_type": "markdown",
   "id": "d2272751",
   "metadata": {},
   "source": [
    "# ."
   ]
  },
  {
   "cell_type": "markdown",
   "id": "0505b648",
   "metadata": {},
   "source": [
    "# 9. If you graph out the Peak Viewers Per Month you will have a graph like the one on the main tab. Recreate the graph in Python so it only shows the top 10 games instead of the first 255 games."
   ]
  },
  {
   "cell_type": "code",
   "execution_count": null,
   "id": "e1d10936",
   "metadata": {},
   "outputs": [],
   "source": [
    "df4 = pd.DataFrame({\n",
    "    'Months': [\"January\",\"February\",\"March\",\"April\",\"May\",\"June\",\"July\",\"August\",\"September\",\"October\",\"November\",\"December\"],\n",
    "    'Viewers': [(df2['January'].max()),(df2['February'].max()),(df2['March'].max()),(df2['April'].max()),(df2['May'].max()),(df2['June'].max()),(df2['July'].max()),(df2['August'].max()),(df2['September'].max()),(df2['October'].max()),(df2['November'].max()),(df2['December'].max())]\n",
    "})\n",
    "\n",
    "df4.plot()\n",
    "\n",
    "#df4.plot(x=\"Months\",y=\"Viewers\",title=\"Peak Viewers per Month\")\n"
   ]
  },
  {
   "cell_type": "markdown",
   "id": "fb4df34c",
   "metadata": {},
   "source": [
    "# Answer:"
   ]
  },
  {
   "cell_type": "code",
   "execution_count": null,
   "id": "5e3ecf78",
   "metadata": {},
   "outputs": [],
   "source": []
  },
  {
   "cell_type": "code",
   "execution_count": null,
   "id": "1d3254e4",
   "metadata": {},
   "outputs": [],
   "source": []
  }
 ],
 "metadata": {
  "kernelspec": {
   "display_name": "Python 3 (ipykernel)",
   "language": "python",
   "name": "python3"
  },
  "language_info": {
   "codemirror_mode": {
    "name": "ipython",
    "version": 3
   },
   "file_extension": ".py",
   "mimetype": "text/x-python",
   "name": "python",
   "nbconvert_exporter": "python",
   "pygments_lexer": "ipython3",
   "version": "3.10.4"
  }
 },
 "nbformat": 4,
 "nbformat_minor": 5
}
